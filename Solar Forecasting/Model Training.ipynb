{
 "cells": [
  {
   "cell_type": "code",
   "execution_count": 17,
   "id": "e71006af",
   "metadata": {},
   "outputs": [],
   "source": [
    "from matplotlib import pyplot as plt\n",
    "from matplotlib.dates import MonthLocator, num2date\n",
    "from matplotlib.ticker import FuncFormatter\n",
    "from prophet import Prophet\n",
    "from prophet.diagnostics import cross_validation, performance_metrics\n",
    "from prophet.plot import add_changepoints_to_plot\n",
    "\n",
    "import pandas as pd\n",
    "import numpy as np\n",
    "import datetime as dt\n",
    "from collections import defaultdict\n",
    "import time\n",
    "import datetime as dt\n",
    "from pytz import timezone\n",
    "tz = timezone('EST')\n",
    "from tqdm import tqdm\n",
    "\n",
    "from sklearn.metrics import mean_absolute_error, mean_absolute_percentage_error, mean_squared_error\n",
    "\n",
    "import seaborn as sns\n",
    "%config InlineBackend.figure_format = 'retina'\n",
    "%matplotlib inline\n",
    "from matplotlib import pyplot as plt\n",
    "from matplotlib import style\n",
    "sns.set()"
   ]
  },
  {
   "cell_type": "code",
   "execution_count": 26,
   "id": "02b29814",
   "metadata": {},
   "outputs": [],
   "source": [
    "solar_data = pd.read_csv(r\"C:\\Users\\Rohan\\Desktop\\Smart Grids\\Solar Forecasting\\40.78122_-73.966514_Solcast_PT5M.csv\")"
   ]
  },
  {
   "cell_type": "code",
   "execution_count": 27,
   "id": "90bffa1e",
   "metadata": {
    "scrolled": true
   },
   "outputs": [
    {
     "data": {
      "text/html": [
       "<div>\n",
       "<style scoped>\n",
       "    .dataframe tbody tr th:only-of-type {\n",
       "        vertical-align: middle;\n",
       "    }\n",
       "\n",
       "    .dataframe tbody tr th {\n",
       "        vertical-align: top;\n",
       "    }\n",
       "\n",
       "    .dataframe thead th {\n",
       "        text-align: right;\n",
       "    }\n",
       "</style>\n",
       "<table border=\"1\" class=\"dataframe\">\n",
       "  <thead>\n",
       "    <tr style=\"text-align: right;\">\n",
       "      <th></th>\n",
       "      <th>ds</th>\n",
       "      <th>y</th>\n",
       "    </tr>\n",
       "  </thead>\n",
       "  <tbody>\n",
       "    <tr>\n",
       "      <th>0</th>\n",
       "      <td>12/31/2009 0:50</td>\n",
       "      <td>0</td>\n",
       "    </tr>\n",
       "    <tr>\n",
       "      <th>1</th>\n",
       "      <td>12/31/2009 0:55</td>\n",
       "      <td>0</td>\n",
       "    </tr>\n",
       "    <tr>\n",
       "      <th>2</th>\n",
       "      <td>12/31/2009 1:00</td>\n",
       "      <td>0</td>\n",
       "    </tr>\n",
       "    <tr>\n",
       "      <th>3</th>\n",
       "      <td>12/31/2009 1:05</td>\n",
       "      <td>0</td>\n",
       "    </tr>\n",
       "    <tr>\n",
       "      <th>4</th>\n",
       "      <td>12/31/2009 1:10</td>\n",
       "      <td>0</td>\n",
       "    </tr>\n",
       "    <tr>\n",
       "      <th>...</th>\n",
       "      <td>...</td>\n",
       "      <td>...</td>\n",
       "    </tr>\n",
       "    <tr>\n",
       "      <th>1048570</th>\n",
       "      <td>12/19/2019 21:40</td>\n",
       "      <td>0</td>\n",
       "    </tr>\n",
       "    <tr>\n",
       "      <th>1048571</th>\n",
       "      <td>12/19/2019 21:45</td>\n",
       "      <td>0</td>\n",
       "    </tr>\n",
       "    <tr>\n",
       "      <th>1048572</th>\n",
       "      <td>12/19/2019 21:50</td>\n",
       "      <td>0</td>\n",
       "    </tr>\n",
       "    <tr>\n",
       "      <th>1048573</th>\n",
       "      <td>12/19/2019 21:55</td>\n",
       "      <td>0</td>\n",
       "    </tr>\n",
       "    <tr>\n",
       "      <th>1048574</th>\n",
       "      <td>12/19/2019 22:00</td>\n",
       "      <td>0</td>\n",
       "    </tr>\n",
       "  </tbody>\n",
       "</table>\n",
       "<p>1048575 rows × 2 columns</p>\n",
       "</div>"
      ],
      "text/plain": [
       "                       ds  y\n",
       "0         12/31/2009 0:50  0\n",
       "1         12/31/2009 0:55  0\n",
       "2         12/31/2009 1:00  0\n",
       "3         12/31/2009 1:05  0\n",
       "4         12/31/2009 1:10  0\n",
       "...                   ... ..\n",
       "1048570  12/19/2019 21:40  0\n",
       "1048571  12/19/2019 21:45  0\n",
       "1048572  12/19/2019 21:50  0\n",
       "1048573  12/19/2019 21:55  0\n",
       "1048574  12/19/2019 22:00  0\n",
       "\n",
       "[1048575 rows x 2 columns]"
      ]
     },
     "execution_count": 27,
     "metadata": {},
     "output_type": "execute_result"
    }
   ],
   "source": [
    "solar_data"
   ]
  },
  {
   "cell_type": "code",
   "execution_count": 33,
   "id": "5b9f45cc",
   "metadata": {},
   "outputs": [],
   "source": [
    "model = Prophet(\n",
    "        changepoint_prior_scale=0.5, \n",
    "        seasonality_mode='multiplicative', \n",
    "        interval_width=0.95, \n",
    "    )"
   ]
  },
  {
   "cell_type": "code",
   "execution_count": 34,
   "id": "7a0704f3",
   "metadata": {},
   "outputs": [
    {
     "data": {
      "text/plain": [
       "<prophet.forecaster.Prophet at 0x268a016d9d0>"
      ]
     },
     "execution_count": 34,
     "metadata": {},
     "output_type": "execute_result"
    }
   ],
   "source": [
    "model.fit(solar_data)"
   ]
  },
  {
   "cell_type": "code",
   "execution_count": 35,
   "id": "da976a02",
   "metadata": {},
   "outputs": [],
   "source": [
    "import json\n",
    "from prophet.serialize import model_to_json, model_from_json\n",
    "\n",
    "with open('nyc_solar_model.json', 'w') as fout:\n",
    "    json.dump(model_to_json(model), fout)  # Save model\n",
    "\n",
    "#with open('nyc_solar_model.json', 'r') as fin:\n",
    "    #m = model_from_json(json.load(fin))  # Load model"
   ]
  },
  {
   "cell_type": "code",
   "execution_count": null,
   "id": "06eeff8b",
   "metadata": {},
   "outputs": [],
   "source": []
  }
 ],
 "metadata": {
  "kernelspec": {
   "display_name": "Python 3 (ipykernel)",
   "language": "python",
   "name": "python3"
  },
  "language_info": {
   "codemirror_mode": {
    "name": "ipython",
    "version": 3
   },
   "file_extension": ".py",
   "mimetype": "text/x-python",
   "name": "python",
   "nbconvert_exporter": "python",
   "pygments_lexer": "ipython3",
   "version": "3.9.7"
  }
 },
 "nbformat": 4,
 "nbformat_minor": 5
}
